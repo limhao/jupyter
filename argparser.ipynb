{
 "cells": [
  {
   "cell_type": "code",
   "execution_count": 1,
   "metadata": {},
   "outputs": [],
   "source": [
    "import argparse"
   ]
  },
  {
   "cell_type": "code",
   "execution_count": 2,
   "metadata": {},
   "outputs": [
    {
     "data": {
      "text/plain": [
       "_StoreAction(option_strings=['--use_cuda'], dest='use_cuda', nargs=None, const=None, default=True, type=<class 'str'>, choices=None, help=None, metavar=None)"
      ]
     },
     "execution_count": 2,
     "metadata": {},
     "output_type": "execute_result"
    }
   ],
   "source": [
    "# 实例化 argparse\n",
    "parser = argparse.ArgumentParser(description='args')\n",
    "# data arguments\n",
    "parser.add_argument('--train_root', type=str, default='datasets/ml1m/test/train.txt')\n",
    "parser.add_argument('--test_root', type=str, default='datasets/ml1m/test/test.txt')\n",
    "parser.add_argument('--L', type=int, default=5)\n",
    "parser.add_argument('--T', type=int, default=2)\n",
    "# train arguments\n",
    "parser.add_argument('--n_iter', type=int, default=50)\n",
    "parser.add_argument('--seed', type=int, default=1234)\n",
    "parser.add_argument('--batch_size', type=int, default=512)\n",
    "parser.add_argument('--learning_rate', type=float, default=1e-3)\n",
    "parser.add_argument('--l2', type=float, default=1e-6)\n",
    "parser.add_argument('--neg_samples', type=int, default=3)\n",
    "parser.add_argument('--use_cuda', type=str, default=True)\n"
   ]
  },
  {
   "cell_type": "code",
   "execution_count": 3,
   "metadata": {},
   "outputs": [
    {
     "name": "stdout",
     "output_type": "stream",
     "text": [
      "Namespace(train_root='datasets/ml1m/test/train.txt', test_root='datasets/ml1m/test/test.txt', L=5, T=2, n_iter=50, seed=1234, batch_size=512, learning_rate=0.001, l2=1e-06, neg_samples=3, use_cuda=True)\n"
     ]
    }
   ],
   "source": [
    "# 在使用 ipython时候\n",
    "# 如果下面这样写 会报错\n",
    "# 原来是parser.parse_args()\n",
    "args = parser.parse_args(args=[])\n",
    "print(args)"
   ]
  },
  {
   "cell_type": "code",
   "execution_count": 4,
   "metadata": {},
   "outputs": [],
   "source": [
    "# 实例化argparse\n",
    "model_parser = argparse.ArgumentParser()\n",
    "model_parser.add_argument('--d', type=int, default=50)\n",
    "model_parser.add_argument('--nv', type=int, default=4)\n",
    "model_parser.add_argument('--nh', type=int, default=16)\n",
    "model_parser.add_argument('--drop', type=float, default=0.5)\n",
    "model_parser.add_argument('--ac_conv', type=str, default='relu')\n",
    "model_parser.add_argument('--ac_fc', type=str, default='relu')\n",
    "\n",
    "model_config = model_parser.parse_args(args=[])"
   ]
  },
  {
   "cell_type": "code",
   "execution_count": 5,
   "metadata": {},
   "outputs": [
    {
     "data": {
      "text/plain": [
       "Namespace(d=50, nv=4, nh=16, drop=0.5, ac_conv='relu', ac_fc='relu')"
      ]
     },
     "execution_count": 5,
     "metadata": {},
     "output_type": "execute_result"
    }
   ],
   "source": [
    "model_config\n"
   ]
  },
  {
   "cell_type": "code",
   "execution_count": 6,
   "metadata": {},
   "outputs": [],
   "source": [
    "model_config.L = args.L"
   ]
  },
  {
   "cell_type": "code",
   "execution_count": 7,
   "metadata": {},
   "outputs": [
    {
     "data": {
      "text/plain": [
       "Namespace(d=50, nv=4, nh=16, drop=0.5, ac_conv='relu', ac_fc='relu', L=5)"
      ]
     },
     "execution_count": 7,
     "metadata": {},
     "output_type": "execute_result"
    }
   ],
   "source": [
    "model_config"
   ]
  },
  {
   "cell_type": "code",
   "execution_count": 8,
   "metadata": {},
   "outputs": [
    {
     "ename": "AttributeError",
     "evalue": "'Namespace' object has no attribute 'add_argument'",
     "output_type": "error",
     "traceback": [
      "\u001b[1;31m---------------------------------------------------------------------------\u001b[0m",
      "\u001b[1;31mAttributeError\u001b[0m                            Traceback (most recent call last)",
      "\u001b[1;32mc:\\Users\\warma\\Desktop\\瞎吉儿操作\\argparser.ipynb Cell 8'\u001b[0m in \u001b[0;36m<cell line: 1>\u001b[1;34m()\u001b[0m\n\u001b[1;32m----> <a href='vscode-notebook-cell:/c%3A/Users/warma/Desktop/%E7%9E%8E%E5%90%89%E5%84%BF%E6%93%8D%E4%BD%9C/argparser.ipynb#ch0000007?line=0'>1</a>\u001b[0m model_config\u001b[39m.\u001b[39;49madd_argument(\u001b[39m'\u001b[39m\u001b[39m--test\u001b[39m\u001b[39m'\u001b[39m, \u001b[39mtype\u001b[39m\u001b[39m=\u001b[39m\u001b[39mint\u001b[39m, default\u001b[39m=\u001b[39m\u001b[39m10\u001b[39m)\n",
      "\u001b[1;31mAttributeError\u001b[0m: 'Namespace' object has no attribute 'add_argument'"
     ]
    }
   ],
   "source": [
    "model_config.add_argument('--test', type=int, default=10)"
   ]
  }
 ],
 "metadata": {
  "kernelspec": {
   "display_name": "conda_rs",
   "language": "python",
   "name": "rs"
  },
  "language_info": {
   "codemirror_mode": {
    "name": "ipython",
    "version": 3
   },
   "file_extension": ".py",
   "mimetype": "text/x-python",
   "name": "python",
   "nbconvert_exporter": "python",
   "pygments_lexer": "ipython3",
   "version": "3.9.7"
  },
  "orig_nbformat": 4
 },
 "nbformat": 4,
 "nbformat_minor": 2
}
