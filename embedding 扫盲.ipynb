{
 "cells": [
  {
   "cell_type": "code",
   "execution_count": 1,
   "id": "a8a90c73",
   "metadata": {},
   "outputs": [],
   "source": [
    "import torch\n",
    "import torch.nn as nn"
   ]
  },
  {
   "cell_type": "code",
   "execution_count": 2,
   "id": "0bba04d8",
   "metadata": {},
   "outputs": [],
   "source": [
    "# 如果 前一个是物品的个数 后面是物品embedding 维度\n",
    "# 有趣的事情发生了\n",
    "# 在文章中 咱只需要 确认一个用户编码 还有一个物品编码就好了嘛\n",
    "embedding = nn.Embedding(10, 3)"
   ]
  },
  {
   "cell_type": "code",
   "execution_count": 3,
   "id": "9d8bf7af",
   "metadata": {},
   "outputs": [],
   "source": [
    "input = torch.LongTensor([1,2,3,4,5,6,7,8,9])"
   ]
  },
  {
   "cell_type": "code",
   "execution_count": 19,
   "id": "51b5b9a4",
   "metadata": {},
   "outputs": [],
   "source": [
    "input_embed = embedding(input)"
   ]
  },
  {
   "cell_type": "code",
   "execution_count": 20,
   "id": "d462fff9",
   "metadata": {},
   "outputs": [
    {
     "data": {
      "text/plain": [
       "tensor([[ 0.3974, -0.0988,  0.3758],\n",
       "        [-0.0685, -0.5384, -0.4036],\n",
       "        [-0.1967,  1.4902, -1.7089],\n",
       "        [ 1.6544, -0.3214,  0.1649],\n",
       "        [ 0.6180,  0.9051,  0.7922],\n",
       "        [ 0.0805,  0.9490, -0.6889],\n",
       "        [ 1.4841,  0.8647,  0.0356],\n",
       "        [ 0.2589,  1.4257, -0.8124],\n",
       "        [ 0.6450,  0.5506,  0.4622]], grad_fn=<EmbeddingBackward0>)"
      ]
     },
     "execution_count": 20,
     "metadata": {},
     "output_type": "execute_result"
    }
   ],
   "source": [
    "input_embed"
   ]
  },
  {
   "cell_type": "code",
   "execution_count": 21,
   "id": "90524c77",
   "metadata": {},
   "outputs": [
    {
     "data": {
      "text/plain": [
       "tensor([-0.0685, -0.5384, -0.4036], grad_fn=<SelectBackward0>)"
      ]
     },
     "execution_count": 21,
     "metadata": {},
     "output_type": "execute_result"
    }
   ],
   "source": [
    "input_embed[1]"
   ]
  },
  {
   "cell_type": "code",
   "execution_count": 4,
   "id": "10fdfbe0",
   "metadata": {},
   "outputs": [
    {
     "data": {
      "text/plain": [
       "tensor([[ 0.6689, -0.1024,  0.9258],\n",
       "        [-0.2602,  0.0980,  1.3343],\n",
       "        [ 0.1694,  0.2633,  1.5107],\n",
       "        [ 0.4026,  0.3061,  1.0020]], grad_fn=<EmbeddingBackward0>)"
      ]
     },
     "execution_count": 4,
     "metadata": {},
     "output_type": "execute_result"
    }
   ],
   "source": [
    "input_embed = embedding(torch.LongTensor([1,2,3,8]))\n",
    "input_embed"
   ]
  },
  {
   "cell_type": "code",
   "execution_count": 5,
   "id": "c6c1003f",
   "metadata": {},
   "outputs": [
    {
     "name": "stdout",
     "output_type": "stream",
     "text": [
      "torch.Size([4, 3])\n"
     ]
    }
   ],
   "source": [
    "print(input_embed.size())"
   ]
  }
 ],
 "metadata": {
  "interpreter": {
   "hash": "27f7314fbf278d71a124a16f599f0551b2cf469ecf427d85617cebaef2e3666a"
  },
  "kernelspec": {
   "display_name": "conda_rs",
   "language": "python",
   "name": "rs"
  },
  "language_info": {
   "codemirror_mode": {
    "name": "ipython",
    "version": 3
   },
   "file_extension": ".py",
   "mimetype": "text/x-python",
   "name": "python",
   "nbconvert_exporter": "python",
   "pygments_lexer": "ipython3",
   "version": "3.9.7"
  }
 },
 "nbformat": 4,
 "nbformat_minor": 5
}
