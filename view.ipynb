{
 "cells": [
  {
   "cell_type": "code",
   "execution_count": 1,
   "metadata": {},
   "outputs": [],
   "source": [
    "import torch\n",
    "import torch.nn as nn\n",
    "import torch.functional as F"
   ]
  },
  {
   "cell_type": "code",
   "execution_count": 13,
   "metadata": {},
   "outputs": [],
   "source": [
    "test1 = torch.randn(3,1,4,3)\n",
    "test2 = torch.randn(1,3,4,3)"
   ]
  },
  {
   "cell_type": "code",
   "execution_count": 21,
   "metadata": {},
   "outputs": [
    {
     "name": "stdout",
     "output_type": "stream",
     "text": [
      "tensor([[[[ 0.0228,  0.2571,  0.7648]],\n",
      "\n",
      "         [[-0.0864,  0.0855, -0.0723]],\n",
      "\n",
      "         [[ 0.4758,  0.0065, -0.2185]]],\n",
      "\n",
      "\n",
      "        [[[ 0.2655,  0.2148,  1.6463]],\n",
      "\n",
      "         [[-0.6171, -0.3152, -0.4579]],\n",
      "\n",
      "         [[-0.0279, -0.1250, -1.4146]]],\n",
      "\n",
      "\n",
      "        [[[ 0.6251, -0.1358, -0.3601]],\n",
      "\n",
      "         [[-0.1379, -0.0844,  0.3324]],\n",
      "\n",
      "         [[ 0.0416, -0.0384,  0.4526]]]], grad_fn=<MkldnnConvolutionBackward0>)\n",
      "torch.Size([3, 3, 1, 3])\n",
      "tensor([[ 0.0228,  0.2571,  0.7648],\n",
      "        [-0.0864,  0.0855, -0.0723],\n",
      "        [ 0.4758,  0.0065, -0.2185],\n",
      "        [ 0.2655,  0.2148,  1.6463],\n",
      "        [-0.6171, -0.3152, -0.4579],\n",
      "        [-0.0279, -0.1250, -1.4146],\n",
      "        [ 0.6251, -0.1358, -0.3601],\n",
      "        [-0.1379, -0.0844,  0.3324],\n",
      "        [ 0.0416, -0.0384,  0.4526]], grad_fn=<ViewBackward0>)\n",
      "torch.Size([3, 1, 3, 3])\n"
     ]
    }
   ],
   "source": [
    "# 写个conv2d\n",
    "class conv(nn.Module):\n",
    "    def __init__(self):\n",
    "        super(conv,self).__init__()\n",
    "        self.out_channel = 3\n",
    "        self.conv1 = nn.Conv2d(1,self.out_channel, (4, 1))\n",
    "    \n",
    "    def forward(self, input):\n",
    "        out = self.conv1(input)\n",
    "        return out\n",
    "\n",
    "# 实例化\n",
    "net = conv()\n",
    "res = net(test1)\n",
    "print(res)\n",
    "print(res.size())\n",
    "print(res.view(-1 , 3))\n",
    "print(res.view(-1 , 1, 3, 3).size())"
   ]
  }
 ],
 "metadata": {
  "interpreter": {
   "hash": "8c0284ac19b113aefefec6a8abe6ec45b3443d3646a9f8fca2ee8552c4ae340c"
  },
  "kernelspec": {
   "display_name": "Python 3.9.7 ('rs')",
   "language": "python",
   "name": "python3"
  },
  "language_info": {
   "codemirror_mode": {
    "name": "ipython",
    "version": 3
   },
   "file_extension": ".py",
   "mimetype": "text/x-python",
   "name": "python",
   "nbconvert_exporter": "python",
   "pygments_lexer": "ipython3",
   "version": "3.9.7"
  },
  "orig_nbformat": 4
 },
 "nbformat": 4,
 "nbformat_minor": 2
}
