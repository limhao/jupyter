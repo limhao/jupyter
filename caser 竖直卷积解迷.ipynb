{
 "cells": [
  {
   "cell_type": "code",
   "execution_count": 82,
   "metadata": {},
   "outputs": [],
   "source": [
    "# 请出冤大头\n",
    "import torch\n",
    "import torch.nn as nn"
   ]
  },
  {
   "cell_type": "code",
   "execution_count": 83,
   "metadata": {},
   "outputs": [],
   "source": [
    "# 深度学习框架 一般为 NCHW 格式 \n",
    "# N batch size\n",
    "# C channel\n",
    "# H height\n",
    "# W weight\n",
    "input_embed = torch.randn(1,1,4,3)"
   ]
  },
  {
   "cell_type": "code",
   "execution_count": 84,
   "metadata": {},
   "outputs": [
    {
     "data": {
      "text/plain": [
       "tensor([[[[ 1.4882, -0.1898, -2.7123],\n",
       "          [-1.2090, -0.4360, -0.0085],\n",
       "          [ 1.1977, -0.3969, -0.9877],\n",
       "          [ 1.5416,  0.2508,  0.2604]]]])"
      ]
     },
     "execution_count": 84,
     "metadata": {},
     "output_type": "execute_result"
    }
   ],
   "source": [
    "input_embed"
   ]
  },
  {
   "cell_type": "code",
   "execution_count": 85,
   "metadata": {},
   "outputs": [
    {
     "data": {
      "text/plain": [
       "<bound method Kernel.raw_input of <ipykernel.ipkernel.IPythonKernel object at 0x000001C70DF4A940>>"
      ]
     },
     "execution_count": 85,
     "metadata": {},
     "output_type": "execute_result"
    }
   ],
   "source": [
    "input"
   ]
  },
  {
   "cell_type": "code",
   "execution_count": 86,
   "metadata": {},
   "outputs": [],
   "source": [
    "# 定义测试网络 竖直的\n",
    "class demo(nn.Module):\n",
    "    def __init__(self):\n",
    "        super(demo, self).__init__()\n",
    "        self.conv_v = nn.Conv2d(1, 3, (4, 1))\n",
    "\n",
    "    def forward(self, x):\n",
    "        out_v = self.conv_v(x)\n",
    "        # 试一试\n",
    "        out_v = out_v.view(-1, 9)\n",
    "        return out_v"
   ]
  },
  {
   "cell_type": "code",
   "execution_count": 87,
   "metadata": {},
   "outputs": [
    {
     "name": "stdout",
     "output_type": "stream",
     "text": [
      "tensor([[-0.5610, -0.0843,  0.8302,  0.0297,  0.3825,  0.6435,  0.2758,  0.3105,\n",
      "         -0.1820]], grad_fn=<ViewBackward0>)\n",
      "torch.Size([1, 9])\n"
     ]
    }
   ],
   "source": [
    "net = demo()\n",
    "a = net(input_embed)\n",
    "print(a)\n",
    "print(a.size())\n"
   ]
  }
 ],
 "metadata": {
  "kernelspec": {
   "display_name": "conda_rs",
   "language": "python",
   "name": "rs"
  },
  "language_info": {
   "codemirror_mode": {
    "name": "ipython",
    "version": 3
   },
   "file_extension": ".py",
   "mimetype": "text/x-python",
   "name": "python",
   "nbconvert_exporter": "python",
   "pygments_lexer": "ipython3",
   "version": "3.9.7"
  },
  "orig_nbformat": 4
 },
 "nbformat": 4,
 "nbformat_minor": 2
}
